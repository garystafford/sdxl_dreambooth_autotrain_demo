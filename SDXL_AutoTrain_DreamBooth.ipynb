{
 "cells": [
  {
   "cell_type": "markdown",
   "metadata": {
    "cellView": "form",
    "id": "JvMRbVLEJlZT",
    "tags": []
   },
   "source": [
    "# Fine-tuning Stable Diffusion XL on AWS for Generative AI-powered Product Concept Design\n",
    "\n",
    "Fine-tuning the Latest Stable Diffusion XL 1.0 Foundation Model on AWS with DreamBooth and Hugging Face’s AutoTrain\n",
    "\n",
    "Blog post: https://garystafford.medium.com/fine-tuning-stable-diffusion-xl-on-aws-for-generative-ai-powered-product-concept-design-dae6f4c8c8fa"
   ]
  },
  {
   "cell_type": "markdown",
   "metadata": {},
   "source": [
    "### References\n",
    "\n",
    "Stable Diffusion Models:\n",
    "- <https://huggingface.co/stabilityai/stable-diffusion-xl-base-1.0>\n",
    "- <https://huggingface.co/stabilityai/stable-diffusion-xl-refiner-1.0>\n",
    "- <https://huggingface.co/docs/diffusers/api/pipelines/stable_diffusion/latent_upscale>\n",
    "- <https://huggingface.co/stabilityai/stable-diffusion-x4-upscaler>\n",
    "\n",
    "Code Source:\n",
    "\n",
    "- <https://colab.research.google.com/github/huggingface/autotrain-advanced/blob/main/colabs/AutoTrain_Dreambooth.ipynb>\n",
    "\n",
    "Code Reference:\n",
    "\n",
    "- <https://huggingface.co/docs/autotrain/index>\n",
    "- <https://www.youtube.com/watch?v=gF078Lhnr94>\n",
    "- <https://huggingface.co/blog/stable_diffusion>\n",
    "- <https://huggingface.co/docs/diffusers/api/pipelines/stable_diffusion/img2img>\n",
    "-<https://huggingface.co/blog/stable_diffusion>"
   ]
  },
  {
   "cell_type": "markdown",
   "metadata": {
    "tags": []
   },
   "source": [
    "### SageMaker Studio Notebook Environment\n",
    "\n",
    "\n",
    "Fine-tuning model environment (`ml.g4dn.4xlarge`):\n",
    "\n",
    "<img src=\"./screengrabs/kernel_sdxl_finetune.png\" width=\"480\" border=1>\n",
    "\n",
    "Inference environment (`ml.g5.4xlarge`):\n",
    "\n",
    "<img src=\"./screengrabs/kernel_sdxl_inference.png\" width=\"480\" border=1>\n"
   ]
  },
  {
   "cell_type": "markdown",
   "metadata": {
    "tags": []
   },
   "source": [
    "## Install Packages and Set Configuration"
   ]
  },
  {
   "cell_type": "code",
   "execution_count": null,
   "metadata": {
    "tags": []
   },
   "outputs": [],
   "source": [
    "%%sh\n",
    "\n",
    "export PIP_ROOT_USER_ACTION=ignore\n",
    "\n",
    "pip install -Uq pip\n",
    "pip install -Uq autotrain-advanced\n",
    "\n",
    "pip install -q ipywidgets==7.8.1\n",
    "pip list | grep 'ipywidgets'"
   ]
  },
  {
   "cell_type": "code",
   "execution_count": null,
   "metadata": {
    "tags": []
   },
   "outputs": [],
   "source": [
    "# optional: restart kernel to update packages first time\n",
    "import os\n",
    "\n",
    "os._exit(00)"
   ]
  },
  {
   "cell_type": "code",
   "execution_count": null,
   "metadata": {
    "tags": []
   },
   "outputs": [],
   "source": [
    "import torch\n",
    "\n",
    "# should be 2.0.0\n",
    "print(torch.__version__)"
   ]
  },
  {
   "cell_type": "code",
   "execution_count": null,
   "metadata": {
    "tags": []
   },
   "outputs": [],
   "source": [
    "from tqdm.notebook import tqdm"
   ]
  },
  {
   "cell_type": "markdown",
   "metadata": {},
   "source": [
    "## SDXL Fine-tuning and Inference Configuration"
   ]
  },
  {
   "cell_type": "code",
   "execution_count": null,
   "metadata": {
    "cellView": "form",
    "id": "A2-_lkBS1WKA",
    "tags": []
   },
   "outputs": [],
   "source": [
    "import os\n",
    "\n",
    "# project configuration\n",
    "project_name = \"mb_amg_gt_oue_dreambooth\"\n",
    "model_name_base = \"stabilityai/stable-diffusion-xl-base-1.0\"\n",
    "model_name_refiner = \"stabilityai/stable-diffusion-xl-refiner-1.0\"\n",
    "model_name_upscaler_4x = \"stabilityai/stable-diffusion-x4-upscaler\"\n",
    "model_name_latent_upscaler = \"stabilityai/sd-x2-latent-upscaler\"\n",
    "\n",
    "# fine-tuning prompts\n",
    "# 'oue' is a rare tokens, car is a class\n",
    "instance_prompt = \"photo of oue car\"\n",
    "class_prompt = \"photo of a car\"\n",
    "image_path = \"./images/car/\"\n",
    "\n",
    "# fine-tuning hyperparameters\n",
    "learning_rate = 1e-4\n",
    "num_steps = 500\n",
    "batch_size = 1\n",
    "gradient_accumulation = 4\n",
    "resolution = 1024\n",
    "\n",
    "# set env. vars for autotrain\n",
    "os.environ[\"PROJECT_NAME\"] = project_name\n",
    "os.environ[\"MODEL_NAME\"] = model_name_base\n",
    "os.environ[\"INSTANCE_PROMPT\"] = instance_prompt\n",
    "os.environ[\"CLASS_PROMPT\"] = class_prompt\n",
    "os.environ[\"IMAGE_PATH\"] = image_path\n",
    "os.environ[\"LEARNING_RATE\"] = str(learning_rate)\n",
    "os.environ[\"NUM_STEPS\"] = str(num_steps)\n",
    "os.environ[\"BATCH_SIZE\"] = str(batch_size)\n",
    "os.environ[\"GRADIENT_ACCUMULATION\"] = str(gradient_accumulation)\n",
    "os.environ[\"RESOLUTION\"] = str(resolution)"
   ]
  },
  {
   "cell_type": "markdown",
   "metadata": {
    "tags": []
   },
   "source": [
    "## Quick Test of Base Model without Fine-tuning"
   ]
  },
  {
   "cell_type": "code",
   "execution_count": null,
   "metadata": {
    "tags": []
   },
   "outputs": [],
   "source": [
    "from diffusers import DiffusionPipeline, StableDiffusionXLImg2ImgPipeline\n",
    "import torch\n",
    "\n",
    "device = \"cpu\" # cpu or cuda"
   ]
  },
  {
   "cell_type": "code",
   "execution_count": null,
   "metadata": {},
   "outputs": [],
   "source": [
    "pipeline = DiffusionPipeline.from_pretrained(\n",
    "    model_name_base,\n",
    "    torch_dtype=torch.float16,\n",
    ")\n",
    "pipeline.to(device)\n",
    "\n",
    "refiner = StableDiffusionXLImg2ImgPipeline.from_pretrained(\n",
    "    model_name_refiner,\n",
    "    torch_dtype=torch.float16,\n",
    ")\n",
    "refiner.to(device)\n",
    "\n",
    "subject_prompt = subject_prompt = \"\"\"photo of car, sporty, fast, sleek, sexy, \n",
    "aggressive, high performance, daytime, futuristic cityscape\"\"\"\n",
    "\n",
    "subject_negative_prompt = \"\"\"person, people, human, rider, floating objects, text, \n",
    "words, writing, letters, phrases, trademark, watermark, icon, logo, banner, signature, \n",
    "username, monochrome, cropped, cut-off\"\"\"\n",
    "\n",
    "refiner_prompt = \"ultra-high-definition, photorealistic, 8k uhd, high-quality, ultra sharp detail\"\n",
    "\n",
    "refiner_negative_prompt = \"\"\"low quality, low-resolution, out of focus, blurry, \n",
    "grainy, artifacts, defects, jpeg artifacts, noise\"\"\"\n",
    "\n",
    "for seed in range(0):\n",
    "    generator = torch.Generator(device).manual_seed(seed)\n",
    "    base_image = pipeline(\n",
    "        prompt=f\"{subject_prompt}, {refiner_prompt}\", \n",
    "        negative_prompt=f\"{subject_negative_prompt}, {refiner_negative_prompt}\",\n",
    "        num_inference_steps=100,\n",
    "        generator=generator,\n",
    "        height=1024,\n",
    "        width=1024,\n",
    "        output_type=\"latent\",\n",
    "    ).images[0]\n",
    "        \n",
    "    refined_image = refiner(\n",
    "        prompt=refiner_prompt, \n",
    "        negative_prompt=refiner_negative_prompt,\n",
    "        num_inference_steps=20,\n",
    "        generator=generator, \n",
    "        image=base_image,\n",
    "    ).images[0]\n",
    "\n",
    "    refined_image.save(f\"./generated_images/car_base_model_photo_square_{seed}.png\")"
   ]
  },
  {
   "cell_type": "markdown",
   "metadata": {},
   "source": [
    "## Fine-tuning the SDXL 1.0 Base Model using DreamBooth"
   ]
  },
  {
   "cell_type": "code",
   "execution_count": null,
   "metadata": {
    "tags": []
   },
   "outputs": [],
   "source": [
    "# autotrain references:\n",
    "# https://huggingface.co/spaces/lora-library/LoRA-DreamBooth-Training-UI/resolve/main/train_dreambooth_lora.py\n",
    "# https://github.com/huggingface/autotrain-advanced/blob/main/src/autotrain/trainers/dreambooth/params.py\n",
    "\n",
    "!autotrain dreambooth --help"
   ]
  },
  {
   "cell_type": "code",
   "execution_count": null,
   "metadata": {
    "tags": []
   },
   "outputs": [],
   "source": [
    "!autotrain dreambooth \\\n",
    "    --model ${MODEL_NAME} \\\n",
    "    --project-name ${PROJECT_NAME} \\\n",
    "    --image-path \"${IMAGE_PATH}\" \\\n",
    "    --prompt \"${INSTANCE_PROMPT}\" \\\n",
    "    --class-prompt \"${CLASS_PROMPT}\" \\\n",
    "    --resolution ${RESOLUTION} \\\n",
    "    --batch-size ${BATCH_SIZE} \\\n",
    "    --num-steps ${NUM_STEPS} \\\n",
    "    --gradient-accumulation ${GRADIENT_ACCUMULATION} \\\n",
    "    --lr ${LEARNING_RATE} \\\n",
    "    --fp16 \\\n",
    "    --gradient-checkpointing"
   ]
  },
  {
   "cell_type": "markdown",
   "metadata": {
    "tags": []
   },
   "source": [
    "## Quick Test of Fine-tuned Model"
   ]
  },
  {
   "cell_type": "code",
   "execution_count": null,
   "metadata": {
    "tags": []
   },
   "outputs": [],
   "source": [
    "pipeline = DiffusionPipeline.from_pretrained(\n",
    "    model_name_base,\n",
    "    torch_dtype=torch.float16,\n",
    ")\n",
    "pipeline.to(device)\n",
    "\n",
    "pipeline.load_lora_weights(\n",
    "    project_name, \n",
    "    weight_name=\"pytorch_lora_weights.safetensors\"\n",
    ")\n",
    "\n",
    "refiner = StableDiffusionXLImg2ImgPipeline.from_pretrained(\n",
    "    model_name_refiner,\n",
    "    torch_dtype=torch.float16,\n",
    ")\n",
    "refiner.to(device)\n",
    "\n",
    "subject_prompt = subject_prompt = \"\"\"oue, photo of oue car, sporty, fast, sleek, sexy, \n",
    "aggressive, high performance, daytime, futuristic cityscape\"\"\"\n",
    "\n",
    "subject_negative_prompt = \"\"\"person, people, human, rider, floating objects, text, \n",
    "words, writing, letters, phrases, trademark, watermark, icon, logo, banner, signature, \n",
    "username, monochrome, cropped, cut-off\"\"\"\n",
    "\n",
    "refiner_prompt = \"ultra-high-definition, photorealistic, 8k uhd, high-quality, ultra sharp detail\"\n",
    "\n",
    "refiner_negative_prompt = \"\"\"low quality, low-resolution, out of focus, blurry, \n",
    "grainy, artifacts, defects, jpeg artifacts, noise\"\"\"\n",
    "\n",
    "for seed in range(0, 10):\n",
    "    generator = torch.Generator(device).manual_seed(seed)\n",
    "    base_image = pipeline(\n",
    "        prompt=f\"{subject_prompt}, {refiner_prompt}\", \n",
    "        negative_prompt=f\"{subject_negative_prompt}, {refiner_negative_prompt}\",\n",
    "        num_inference_steps=100,\n",
    "        generator=generator,\n",
    "        height=1024,\n",
    "        width=1024,\n",
    "        output_type=\"latent\",\n",
    "    ).images[0]\n",
    "        \n",
    "    refined_image = refiner(\n",
    "        prompt=refiner_prompt, \n",
    "        negative_prompt=refiner_negative_prompt,\n",
    "        num_inference_steps=20,\n",
    "        generator=generator, \n",
    "        image=base_image,\n",
    "    ).images[0]\n",
    "\n",
    "    refined_image.save(f\"./generated_images/car_finetuned_model_photo_square_{seed}.png\")"
   ]
  },
  {
   "cell_type": "markdown",
   "metadata": {
    "tags": []
   },
   "source": [
    "## Rough Product Sketches of Scooter with Fine-tuned Model"
   ]
  },
  {
   "cell_type": "code",
   "execution_count": null,
   "metadata": {},
   "outputs": [],
   "source": [
    "pipeline = DiffusionPipeline.from_pretrained(\n",
    "    model_name_base,\n",
    "    torch_dtype=torch.float16,\n",
    ")\n",
    "pipeline.to(device)\n",
    "\n",
    "pipeline.load_lora_weights(\n",
    "    project_name, \n",
    "    weight_name=\"pytorch_lora_weights.safetensors\"\n",
    ")\n",
    "\n",
    "refiner = StableDiffusionXLImg2ImgPipeline.from_pretrained(\n",
    "    model_name_refiner,\n",
    "    torch_dtype=torch.float16,\n",
    ")\n",
    "refiner.to(device)\n",
    "\n",
    "subject_prompt = \"\"\"oue, marker rendering of oue electric scooter, concept art, \n",
    "futuristic cityscape, high contrast, black and white, black marker, marker drawing, \n",
    "sketch, monochromatic illustration, illustrative, graphic, muted, expressive strokes\"\"\"\n",
    "\n",
    "subject_negative_prompt = \"\"\"person, people, human, rider, floating objects, colors, text, \n",
    "words, writing, letters, phrases, trademark, watermark, icon, logo, banner, signature, \n",
    "username, cropped, cut-off, patterned background\"\"\"\n",
    "\n",
    "# we don't want a photographic image\n",
    "refiner_prompt = \"sharp, crisp, in-focus, uncropped, high-quality\"\n",
    "\n",
    "refiner_negative_prompt = \"\"\"photographic, photo, photorealistic, low quality, low-resolution, \n",
    "out of focus, blurry, grainy, artifacts, defects, jpeg artifacts, noise\"\"\"\n",
    "\n",
    "for seed in range(0, 10):\n",
    "    generator = torch.Generator(device).manual_seed(seed)\n",
    "    base_image = pipeline(\n",
    "        prompt=f\"{subject_prompt}, {refiner_prompt}\", \n",
    "        negative_prompt=f\"{subject_negative_prompt}, {refiner_negative_prompt}\",\n",
    "        num_inference_steps=100,\n",
    "        generator=generator,\n",
    "        height=768,\n",
    "        width=1024,\n",
    "        output_type=\"latent\",\n",
    "    ).images[0]\n",
    "        \n",
    "    refined_image = refiner(\n",
    "        prompt=refiner_prompt, \n",
    "        negative_prompt=refiner_negative_prompt,\n",
    "        num_inference_steps=20,\n",
    "        generator=generator, \n",
    "        image=base_image,\n",
    "    ).images[0]\n",
    "    \n",
    "    refined_image.save(f\"./generated_images/scooter_finetuned_sketch_wide_{seed}.png\")"
   ]
  },
  {
   "cell_type": "markdown",
   "metadata": {},
   "source": [
    "## Color Marker Renderings of Scooter with Fine-tuned Model"
   ]
  },
  {
   "cell_type": "code",
   "execution_count": null,
   "metadata": {},
   "outputs": [],
   "source": [
    "pipeline = DiffusionPipeline.from_pretrained(\n",
    "    model_name_base,\n",
    "    torch_dtype=torch.float16,\n",
    ")\n",
    "pipeline.to(device)\n",
    "\n",
    "pipeline.load_lora_weights(\n",
    "    project_name, \n",
    "    weight_name=\"pytorch_lora_weights.safetensors\"\n",
    ")\n",
    "\n",
    "refiner = StableDiffusionXLImg2ImgPipeline.from_pretrained(\n",
    "    model_name_refiner,\n",
    "    torch_dtype=torch.float16,\n",
    ")\n",
    "refiner.to(device)\n",
    "\n",
    "subject_prompt = \"\"\"oue, marker rendering of oue electric scooter, concept art, \n",
    "futuristic cityscape, solid color background, bright vibrant colors, marker, sketch, \n",
    "illustration, illustrative, marker drawing, expressive strokes, graphic\"\"\"\n",
    "\n",
    "subject_negative_prompt = \"\"\"person, people, human, rider, floating objects, text, \n",
    "words, writing, letters, phrases, trademark, watermark, icon, logo, banner, signature, \n",
    "username, monochrome, cropped, cut-off, patterned background\"\"\"\n",
    "\n",
    "# we don't want a photographic image\n",
    "refiner_prompt = \"sharp, crisp, in-focus, uncropped, high-quality\"\n",
    "\n",
    "refiner_negative_prompt = \"\"\"photographic, photo, photorealistic, low quality, \n",
    "low-resolution, out of focus, blurry, grainy, artifacts, defects, jpeg artifacts, noise\"\"\"\n",
    "\n",
    "for seed in range(0, 10):\n",
    "    generator = torch.Generator(device).manual_seed(seed)\n",
    "    base_image = pipeline(\n",
    "        prompt=f\"{subject_prompt}, {refiner_prompt}\", \n",
    "        negative_prompt=f\"{subject_negative_prompt}, {refiner_negative_prompt}\",\n",
    "        num_inference_steps=100,\n",
    "        generator=generator,\n",
    "        height=768,\n",
    "        width=1024,\n",
    "        output_type=\"latent\",\n",
    "    ).images[0]\n",
    "\n",
    "    refined_image = refiner(\n",
    "        prompt=refiner_prompt, \n",
    "        negative_prompt=refiner_negative_prompt,\n",
    "        num_inference_steps=20,\n",
    "        generator=generator, \n",
    "        image=base_image,\n",
    "    ).images[0]\n",
    "    \n",
    "    refined_image.save(f\"./generated_images/scooter_finetuned_color_maker_wide_{seed}.png\")"
   ]
  },
  {
   "cell_type": "markdown",
   "metadata": {},
   "source": [
    "## Photorealistic Images of Scooter with Fine-tuned Model"
   ]
  },
  {
   "cell_type": "code",
   "execution_count": null,
   "metadata": {
    "tags": []
   },
   "outputs": [],
   "source": [
    "pipeline = DiffusionPipeline.from_pretrained(\n",
    "    model_name_base,\n",
    "    torch_dtype=torch.float16,\n",
    ")\n",
    "pipeline.to(device)\n",
    "\n",
    "pipeline.load_lora_weights(\n",
    "    project_name, \n",
    "    weight_name=\"pytorch_lora_weights.safetensors\"\n",
    ")\n",
    "\n",
    "refiner = StableDiffusionXLImg2ImgPipeline.from_pretrained(\n",
    "    model_name_refiner,\n",
    "    torch_dtype=torch.float16,\n",
    ")\n",
    "refiner.to(device)\n",
    "\n",
    "subject_prompt = \"\"\"oue, photo of a oue electric scooter, sleek, smooth curves, colorful, \n",
    "daytime, urban, futuristic cityscape\"\"\"\n",
    "\n",
    "subject_negative_prompt = \"\"\"person, people, human, rider, floating objects, text, \n",
    "words, writing, letters, phrases, trademark, watermark, icon, logo, banner, signature, \n",
    "username, monochrome, cropped, cut-off, patterned background\"\"\"\n",
    "\n",
    "refiner_prompt = \"ultra-high-definition, photorealistic, 8k uhd, high-quality, ultra sharp detail\"\n",
    "\n",
    "refiner_negative_prompt = \"\"\"low quality, low-resolution, out of focus, blurry, \n",
    "grainy, artifacts, defects, jpeg artifacts, noise\"\"\"\n",
    "\n",
    "for seed in range(0, 1):\n",
    "    generator = torch.Generator(device).manual_seed(seed)\n",
    "    base_image = pipeline(\n",
    "        prompt=f\"{subject_prompt}, {refiner_prompt}\", \n",
    "        negative_prompt=f\"{subject_negative_prompt}, {refiner_negative_prompt}\",\n",
    "        num_inference_steps=100,\n",
    "        generator=generator,\n",
    "        height=768,\n",
    "        width=1024,\n",
    "        output_type=\"latent\",\n",
    "    ).images[0]\n",
    "        \n",
    "    refined_image = refiner(\n",
    "        prompt=refiner_prompt, \n",
    "        negative_prompt=refiner_negative_prompt,\n",
    "        num_inference_steps=20,\n",
    "        generator=generator, \n",
    "        image=base_image,\n",
    "    ).images[0]\n",
    "    \n",
    "    refined_image.save(f\"./generated_images/scooter_finetuned_photo_wide_{seed}.png\")"
   ]
  },
  {
   "cell_type": "markdown",
   "metadata": {},
   "source": [
    "## Scaling Images\n",
    "\n",
    "Using the `StableDiffusionUpscalePipeline` and the `stabilityai/stable-diffusion-x4-upscaler` model to upscale an existing image. Upscaling can also be included as part of the pipeline."
   ]
  },
  {
   "cell_type": "code",
   "execution_count": null,
   "metadata": {},
   "outputs": [],
   "source": [
    "from PIL import Image\n",
    "image = Image.open(r\"./image_samples/image_705.png\")\n",
    "image.show()"
   ]
  },
  {
   "cell_type": "code",
   "execution_count": null,
   "metadata": {},
   "outputs": [],
   "source": [
    "from diffusers import StableDiffusionUpscalePipeline\n",
    "\n",
    "upscaler = StableDiffusionUpscalePipeline.from_pretrained(\n",
    "    model_name_upscaler_4x,\n",
    "    torch_dtype=torch.float16,\n",
    ")\n",
    "\n",
    "upscaler.to(device)\n",
    "\n",
    "refiner_prompt = \"\"\n",
    "\n",
    "refiner_negative_prompt = \"\"\"low quality, low-resolution, out of focus, blurry, grainy, artifacts, defects, \n",
    "jpeg artifacts, noise\"\"\"\n",
    "\n",
    "generator = torch.Generator(device).manual_seed(0)\n",
    "\n",
    "upscaled_image = upscaler(\n",
    "    prompt=refiner_prompt,\n",
    "    negative_prompt=refiner_negative_prompt,\n",
    "    num_inference_steps=15,\n",
    "    generator=generator,\n",
    "    image=image,\n",
    ").images[0]\n",
    "\n",
    "upscaled_image.save(f\"./upscaled_example_{seed}.png\")"
   ]
  },
  {
   "cell_type": "markdown",
   "metadata": {},
   "source": [
    "### CUDA Memory Issues using GPU vs. CPU\n",
    "\n",
    "Single GPU-based instances, even `ml.g5.4xlarge` will frequently run out of memory (`OutOfMemoryError`). Notebook environment instance needs to be shutdown, then restarted. Using the `Restart Kernel...` command is not sufficient."
   ]
  },
  {
   "cell_type": "markdown",
   "metadata": {},
   "source": [
    "Example CUDA memory error resulting from using anything smaller than a `ml.g5.2xlarge` GPU instance:\n",
    "\n",
    "```OutOfMemoryError: CUDA out of memory. Tried to allocate 512.00 MiB (GPU 0; 14.76 GiB total capacity; 13.21 GiB already allocated; 362.75 MiB free; 13.45 GiB reserved in total by PyTorch) If reserved memory is >> allocated memory try setting max_split_size_mb to avoid fragmentation.  See documentation for Memory Management and PYTORCH_CUDA_ALLOC_CONF```\n",
    "\n",
    "Example CUDA memory errors resulting from using anything smaller than a `ml.g5.4xlarge` GPU instance:\n",
    "\n",
    "```OutOfMemoryError: CUDA out of memory. Tried to allocate 1.98 GiB (GPU 0; 22.20 GiB total capacity; 15.94 GiB already allocated; 1.26 GiB free; 19.60 GiB reserved in total by PyTorch) If reserved memory is >> allocated memory try setting max_split_size_mb to avoid fragmentation.  See documentation for Memory Management and PYTORCH_CUDA_ALLOC_CONF```"
   ]
  },
  {
   "cell_type": "code",
   "execution_count": null,
   "metadata": {},
   "outputs": [],
   "source": [
    "print(torch.cuda.mem_get_info())"
   ]
  },
  {
   "cell_type": "code",
   "execution_count": null,
   "metadata": {},
   "outputs": [],
   "source": [
    "print(torch.cuda.memory_summary(device=\"cuda\", abbreviated=False))"
   ]
  },
  {
   "cell_type": "code",
   "execution_count": null,
   "metadata": {
    "tags": []
   },
   "outputs": [],
   "source": [
    "import gc\n",
    "gc.collect()\n",
    "\n",
    "import torch\n",
    "torch.cuda.empty_cache()"
   ]
  },
  {
   "cell_type": "code",
   "execution_count": null,
   "metadata": {},
   "outputs": [],
   "source": []
  }
 ],
 "metadata": {
  "accelerator": "GPU",
  "availableInstances": [
   {
    "_defaultOrder": 0,
    "_isFastLaunch": true,
    "category": "General purpose",
    "gpuNum": 0,
    "hideHardwareSpecs": false,
    "memoryGiB": 4,
    "name": "ml.t3.medium",
    "vcpuNum": 2
   },
   {
    "_defaultOrder": 1,
    "_isFastLaunch": false,
    "category": "General purpose",
    "gpuNum": 0,
    "hideHardwareSpecs": false,
    "memoryGiB": 8,
    "name": "ml.t3.large",
    "vcpuNum": 2
   },
   {
    "_defaultOrder": 2,
    "_isFastLaunch": false,
    "category": "General purpose",
    "gpuNum": 0,
    "hideHardwareSpecs": false,
    "memoryGiB": 16,
    "name": "ml.t3.xlarge",
    "vcpuNum": 4
   },
   {
    "_defaultOrder": 3,
    "_isFastLaunch": false,
    "category": "General purpose",
    "gpuNum": 0,
    "hideHardwareSpecs": false,
    "memoryGiB": 32,
    "name": "ml.t3.2xlarge",
    "vcpuNum": 8
   },
   {
    "_defaultOrder": 4,
    "_isFastLaunch": true,
    "category": "General purpose",
    "gpuNum": 0,
    "hideHardwareSpecs": false,
    "memoryGiB": 8,
    "name": "ml.m5.large",
    "vcpuNum": 2
   },
   {
    "_defaultOrder": 5,
    "_isFastLaunch": false,
    "category": "General purpose",
    "gpuNum": 0,
    "hideHardwareSpecs": false,
    "memoryGiB": 16,
    "name": "ml.m5.xlarge",
    "vcpuNum": 4
   },
   {
    "_defaultOrder": 6,
    "_isFastLaunch": false,
    "category": "General purpose",
    "gpuNum": 0,
    "hideHardwareSpecs": false,
    "memoryGiB": 32,
    "name": "ml.m5.2xlarge",
    "vcpuNum": 8
   },
   {
    "_defaultOrder": 7,
    "_isFastLaunch": false,
    "category": "General purpose",
    "gpuNum": 0,
    "hideHardwareSpecs": false,
    "memoryGiB": 64,
    "name": "ml.m5.4xlarge",
    "vcpuNum": 16
   },
   {
    "_defaultOrder": 8,
    "_isFastLaunch": false,
    "category": "General purpose",
    "gpuNum": 0,
    "hideHardwareSpecs": false,
    "memoryGiB": 128,
    "name": "ml.m5.8xlarge",
    "vcpuNum": 32
   },
   {
    "_defaultOrder": 9,
    "_isFastLaunch": false,
    "category": "General purpose",
    "gpuNum": 0,
    "hideHardwareSpecs": false,
    "memoryGiB": 192,
    "name": "ml.m5.12xlarge",
    "vcpuNum": 48
   },
   {
    "_defaultOrder": 10,
    "_isFastLaunch": false,
    "category": "General purpose",
    "gpuNum": 0,
    "hideHardwareSpecs": false,
    "memoryGiB": 256,
    "name": "ml.m5.16xlarge",
    "vcpuNum": 64
   },
   {
    "_defaultOrder": 11,
    "_isFastLaunch": false,
    "category": "General purpose",
    "gpuNum": 0,
    "hideHardwareSpecs": false,
    "memoryGiB": 384,
    "name": "ml.m5.24xlarge",
    "vcpuNum": 96
   },
   {
    "_defaultOrder": 12,
    "_isFastLaunch": false,
    "category": "General purpose",
    "gpuNum": 0,
    "hideHardwareSpecs": false,
    "memoryGiB": 8,
    "name": "ml.m5d.large",
    "vcpuNum": 2
   },
   {
    "_defaultOrder": 13,
    "_isFastLaunch": false,
    "category": "General purpose",
    "gpuNum": 0,
    "hideHardwareSpecs": false,
    "memoryGiB": 16,
    "name": "ml.m5d.xlarge",
    "vcpuNum": 4
   },
   {
    "_defaultOrder": 14,
    "_isFastLaunch": false,
    "category": "General purpose",
    "gpuNum": 0,
    "hideHardwareSpecs": false,
    "memoryGiB": 32,
    "name": "ml.m5d.2xlarge",
    "vcpuNum": 8
   },
   {
    "_defaultOrder": 15,
    "_isFastLaunch": false,
    "category": "General purpose",
    "gpuNum": 0,
    "hideHardwareSpecs": false,
    "memoryGiB": 64,
    "name": "ml.m5d.4xlarge",
    "vcpuNum": 16
   },
   {
    "_defaultOrder": 16,
    "_isFastLaunch": false,
    "category": "General purpose",
    "gpuNum": 0,
    "hideHardwareSpecs": false,
    "memoryGiB": 128,
    "name": "ml.m5d.8xlarge",
    "vcpuNum": 32
   },
   {
    "_defaultOrder": 17,
    "_isFastLaunch": false,
    "category": "General purpose",
    "gpuNum": 0,
    "hideHardwareSpecs": false,
    "memoryGiB": 192,
    "name": "ml.m5d.12xlarge",
    "vcpuNum": 48
   },
   {
    "_defaultOrder": 18,
    "_isFastLaunch": false,
    "category": "General purpose",
    "gpuNum": 0,
    "hideHardwareSpecs": false,
    "memoryGiB": 256,
    "name": "ml.m5d.16xlarge",
    "vcpuNum": 64
   },
   {
    "_defaultOrder": 19,
    "_isFastLaunch": false,
    "category": "General purpose",
    "gpuNum": 0,
    "hideHardwareSpecs": false,
    "memoryGiB": 384,
    "name": "ml.m5d.24xlarge",
    "vcpuNum": 96
   },
   {
    "_defaultOrder": 20,
    "_isFastLaunch": false,
    "category": "General purpose",
    "gpuNum": 0,
    "hideHardwareSpecs": true,
    "memoryGiB": 0,
    "name": "ml.geospatial.interactive",
    "supportedImageNames": [
     "sagemaker-geospatial-v1-0"
    ],
    "vcpuNum": 0
   },
   {
    "_defaultOrder": 21,
    "_isFastLaunch": true,
    "category": "Compute optimized",
    "gpuNum": 0,
    "hideHardwareSpecs": false,
    "memoryGiB": 4,
    "name": "ml.c5.large",
    "vcpuNum": 2
   },
   {
    "_defaultOrder": 22,
    "_isFastLaunch": false,
    "category": "Compute optimized",
    "gpuNum": 0,
    "hideHardwareSpecs": false,
    "memoryGiB": 8,
    "name": "ml.c5.xlarge",
    "vcpuNum": 4
   },
   {
    "_defaultOrder": 23,
    "_isFastLaunch": false,
    "category": "Compute optimized",
    "gpuNum": 0,
    "hideHardwareSpecs": false,
    "memoryGiB": 16,
    "name": "ml.c5.2xlarge",
    "vcpuNum": 8
   },
   {
    "_defaultOrder": 24,
    "_isFastLaunch": false,
    "category": "Compute optimized",
    "gpuNum": 0,
    "hideHardwareSpecs": false,
    "memoryGiB": 32,
    "name": "ml.c5.4xlarge",
    "vcpuNum": 16
   },
   {
    "_defaultOrder": 25,
    "_isFastLaunch": false,
    "category": "Compute optimized",
    "gpuNum": 0,
    "hideHardwareSpecs": false,
    "memoryGiB": 72,
    "name": "ml.c5.9xlarge",
    "vcpuNum": 36
   },
   {
    "_defaultOrder": 26,
    "_isFastLaunch": false,
    "category": "Compute optimized",
    "gpuNum": 0,
    "hideHardwareSpecs": false,
    "memoryGiB": 96,
    "name": "ml.c5.12xlarge",
    "vcpuNum": 48
   },
   {
    "_defaultOrder": 27,
    "_isFastLaunch": false,
    "category": "Compute optimized",
    "gpuNum": 0,
    "hideHardwareSpecs": false,
    "memoryGiB": 144,
    "name": "ml.c5.18xlarge",
    "vcpuNum": 72
   },
   {
    "_defaultOrder": 28,
    "_isFastLaunch": false,
    "category": "Compute optimized",
    "gpuNum": 0,
    "hideHardwareSpecs": false,
    "memoryGiB": 192,
    "name": "ml.c5.24xlarge",
    "vcpuNum": 96
   },
   {
    "_defaultOrder": 29,
    "_isFastLaunch": true,
    "category": "Accelerated computing",
    "gpuNum": 1,
    "hideHardwareSpecs": false,
    "memoryGiB": 16,
    "name": "ml.g4dn.xlarge",
    "vcpuNum": 4
   },
   {
    "_defaultOrder": 30,
    "_isFastLaunch": false,
    "category": "Accelerated computing",
    "gpuNum": 1,
    "hideHardwareSpecs": false,
    "memoryGiB": 32,
    "name": "ml.g4dn.2xlarge",
    "vcpuNum": 8
   },
   {
    "_defaultOrder": 31,
    "_isFastLaunch": false,
    "category": "Accelerated computing",
    "gpuNum": 1,
    "hideHardwareSpecs": false,
    "memoryGiB": 64,
    "name": "ml.g4dn.4xlarge",
    "vcpuNum": 16
   },
   {
    "_defaultOrder": 32,
    "_isFastLaunch": false,
    "category": "Accelerated computing",
    "gpuNum": 1,
    "hideHardwareSpecs": false,
    "memoryGiB": 128,
    "name": "ml.g4dn.8xlarge",
    "vcpuNum": 32
   },
   {
    "_defaultOrder": 33,
    "_isFastLaunch": false,
    "category": "Accelerated computing",
    "gpuNum": 4,
    "hideHardwareSpecs": false,
    "memoryGiB": 192,
    "name": "ml.g4dn.12xlarge",
    "vcpuNum": 48
   },
   {
    "_defaultOrder": 34,
    "_isFastLaunch": false,
    "category": "Accelerated computing",
    "gpuNum": 1,
    "hideHardwareSpecs": false,
    "memoryGiB": 256,
    "name": "ml.g4dn.16xlarge",
    "vcpuNum": 64
   },
   {
    "_defaultOrder": 35,
    "_isFastLaunch": false,
    "category": "Accelerated computing",
    "gpuNum": 1,
    "hideHardwareSpecs": false,
    "memoryGiB": 61,
    "name": "ml.p3.2xlarge",
    "vcpuNum": 8
   },
   {
    "_defaultOrder": 36,
    "_isFastLaunch": false,
    "category": "Accelerated computing",
    "gpuNum": 4,
    "hideHardwareSpecs": false,
    "memoryGiB": 244,
    "name": "ml.p3.8xlarge",
    "vcpuNum": 32
   },
   {
    "_defaultOrder": 37,
    "_isFastLaunch": false,
    "category": "Accelerated computing",
    "gpuNum": 8,
    "hideHardwareSpecs": false,
    "memoryGiB": 488,
    "name": "ml.p3.16xlarge",
    "vcpuNum": 64
   },
   {
    "_defaultOrder": 38,
    "_isFastLaunch": false,
    "category": "Accelerated computing",
    "gpuNum": 8,
    "hideHardwareSpecs": false,
    "memoryGiB": 768,
    "name": "ml.p3dn.24xlarge",
    "vcpuNum": 96
   },
   {
    "_defaultOrder": 39,
    "_isFastLaunch": false,
    "category": "Memory Optimized",
    "gpuNum": 0,
    "hideHardwareSpecs": false,
    "memoryGiB": 16,
    "name": "ml.r5.large",
    "vcpuNum": 2
   },
   {
    "_defaultOrder": 40,
    "_isFastLaunch": false,
    "category": "Memory Optimized",
    "gpuNum": 0,
    "hideHardwareSpecs": false,
    "memoryGiB": 32,
    "name": "ml.r5.xlarge",
    "vcpuNum": 4
   },
   {
    "_defaultOrder": 41,
    "_isFastLaunch": false,
    "category": "Memory Optimized",
    "gpuNum": 0,
    "hideHardwareSpecs": false,
    "memoryGiB": 64,
    "name": "ml.r5.2xlarge",
    "vcpuNum": 8
   },
   {
    "_defaultOrder": 42,
    "_isFastLaunch": false,
    "category": "Memory Optimized",
    "gpuNum": 0,
    "hideHardwareSpecs": false,
    "memoryGiB": 128,
    "name": "ml.r5.4xlarge",
    "vcpuNum": 16
   },
   {
    "_defaultOrder": 43,
    "_isFastLaunch": false,
    "category": "Memory Optimized",
    "gpuNum": 0,
    "hideHardwareSpecs": false,
    "memoryGiB": 256,
    "name": "ml.r5.8xlarge",
    "vcpuNum": 32
   },
   {
    "_defaultOrder": 44,
    "_isFastLaunch": false,
    "category": "Memory Optimized",
    "gpuNum": 0,
    "hideHardwareSpecs": false,
    "memoryGiB": 384,
    "name": "ml.r5.12xlarge",
    "vcpuNum": 48
   },
   {
    "_defaultOrder": 45,
    "_isFastLaunch": false,
    "category": "Memory Optimized",
    "gpuNum": 0,
    "hideHardwareSpecs": false,
    "memoryGiB": 512,
    "name": "ml.r5.16xlarge",
    "vcpuNum": 64
   },
   {
    "_defaultOrder": 46,
    "_isFastLaunch": false,
    "category": "Memory Optimized",
    "gpuNum": 0,
    "hideHardwareSpecs": false,
    "memoryGiB": 768,
    "name": "ml.r5.24xlarge",
    "vcpuNum": 96
   },
   {
    "_defaultOrder": 47,
    "_isFastLaunch": false,
    "category": "Accelerated computing",
    "gpuNum": 1,
    "hideHardwareSpecs": false,
    "memoryGiB": 16,
    "name": "ml.g5.xlarge",
    "vcpuNum": 4
   },
   {
    "_defaultOrder": 48,
    "_isFastLaunch": false,
    "category": "Accelerated computing",
    "gpuNum": 1,
    "hideHardwareSpecs": false,
    "memoryGiB": 32,
    "name": "ml.g5.2xlarge",
    "vcpuNum": 8
   },
   {
    "_defaultOrder": 49,
    "_isFastLaunch": false,
    "category": "Accelerated computing",
    "gpuNum": 1,
    "hideHardwareSpecs": false,
    "memoryGiB": 64,
    "name": "ml.g5.4xlarge",
    "vcpuNum": 16
   },
   {
    "_defaultOrder": 50,
    "_isFastLaunch": false,
    "category": "Accelerated computing",
    "gpuNum": 1,
    "hideHardwareSpecs": false,
    "memoryGiB": 128,
    "name": "ml.g5.8xlarge",
    "vcpuNum": 32
   },
   {
    "_defaultOrder": 51,
    "_isFastLaunch": false,
    "category": "Accelerated computing",
    "gpuNum": 1,
    "hideHardwareSpecs": false,
    "memoryGiB": 256,
    "name": "ml.g5.16xlarge",
    "vcpuNum": 64
   },
   {
    "_defaultOrder": 52,
    "_isFastLaunch": false,
    "category": "Accelerated computing",
    "gpuNum": 4,
    "hideHardwareSpecs": false,
    "memoryGiB": 192,
    "name": "ml.g5.12xlarge",
    "vcpuNum": 48
   },
   {
    "_defaultOrder": 53,
    "_isFastLaunch": false,
    "category": "Accelerated computing",
    "gpuNum": 4,
    "hideHardwareSpecs": false,
    "memoryGiB": 384,
    "name": "ml.g5.24xlarge",
    "vcpuNum": 96
   },
   {
    "_defaultOrder": 54,
    "_isFastLaunch": false,
    "category": "Accelerated computing",
    "gpuNum": 8,
    "hideHardwareSpecs": false,
    "memoryGiB": 768,
    "name": "ml.g5.48xlarge",
    "vcpuNum": 192
   },
   {
    "_defaultOrder": 55,
    "_isFastLaunch": false,
    "category": "Accelerated computing",
    "gpuNum": 8,
    "hideHardwareSpecs": false,
    "memoryGiB": 1152,
    "name": "ml.p4d.24xlarge",
    "vcpuNum": 96
   },
   {
    "_defaultOrder": 56,
    "_isFastLaunch": false,
    "category": "Accelerated computing",
    "gpuNum": 8,
    "hideHardwareSpecs": false,
    "memoryGiB": 1152,
    "name": "ml.p4de.24xlarge",
    "vcpuNum": 96
   },
   {
    "_defaultOrder": 57,
    "_isFastLaunch": false,
    "category": "Accelerated computing",
    "gpuNum": 0,
    "hideHardwareSpecs": false,
    "memoryGiB": 32,
    "name": "ml.trn1.2xlarge",
    "vcpuNum": 8
   },
   {
    "_defaultOrder": 58,
    "_isFastLaunch": false,
    "category": "Accelerated computing",
    "gpuNum": 0,
    "hideHardwareSpecs": false,
    "memoryGiB": 512,
    "name": "ml.trn1.32xlarge",
    "vcpuNum": 128
   },
   {
    "_defaultOrder": 59,
    "_isFastLaunch": false,
    "category": "Accelerated computing",
    "gpuNum": 0,
    "hideHardwareSpecs": false,
    "memoryGiB": 512,
    "name": "ml.trn1n.32xlarge",
    "vcpuNum": 128
   }
  ],
  "colab": {
   "gpuType": "T4",
   "provenance": []
  },
  "kernelspec": {
   "display_name": "Python 3",
   "language": "python",
   "name": "python3"
  },
  "language_info": {
   "codemirror_mode": {
    "name": "ipython",
    "version": 3
   },
   "file_extension": ".py",
   "mimetype": "text/x-python",
   "name": "python",
   "nbconvert_exporter": "python",
   "pygments_lexer": "ipython3",
   "version": "3.10.13"
  }
 },
 "nbformat": 4,
 "nbformat_minor": 4
}
